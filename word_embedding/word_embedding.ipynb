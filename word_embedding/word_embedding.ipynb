{
 "cells": [
  {
   "cell_type": "code",
   "execution_count": 28,
   "id": "bb798b3a",
   "metadata": {},
   "outputs": [],
   "source": [
    "from gensim.models import Word2Vec\n",
    "from sklearn.decomposition import PCA\n",
    "from matplotlib import pyplot"
   ]
  },
  {
   "cell_type": "code",
   "execution_count": 75,
   "id": "f385c604",
   "metadata": {},
   "outputs": [],
   "source": [
    "import numpy as np\n",
    "from numpy import zeros\n",
    "from tensorflow.keras.preprocessing.text import Tokenizer"
   ]
  },
  {
   "cell_type": "code",
   "execution_count": 2,
   "id": "1fbb800e",
   "metadata": {},
   "outputs": [],
   "source": [
    "## define training dataset\n",
    "sentences = [['this', 'is', 'the', 'first', 'sentence', 'for', 'word2vec'],\n",
    "['this', 'is', 'the', 'second', 'sentence'],\n",
    "['yet', 'another', 'sentence'],\n",
    "['one', 'more', 'sentence'],\n",
    "['and', 'the', 'final', 'sentence']]"
   ]
  },
  {
   "cell_type": "code",
   "execution_count": 4,
   "id": "fc22f491",
   "metadata": {},
   "outputs": [],
   "source": [
    "## train model\n",
    "model = Word2Vec(sentences,min_count = 1)"
   ]
  },
  {
   "cell_type": "code",
   "execution_count": 6,
   "id": "c1c8491c",
   "metadata": {},
   "outputs": [
    {
     "name": "stdout",
     "output_type": "stream",
     "text": [
      "Word2Vec(vocab=14, vector_size=100, alpha=0.025)\n"
     ]
    }
   ],
   "source": [
    "## summarize model\n",
    "print(model)"
   ]
  },
  {
   "cell_type": "code",
   "execution_count": 20,
   "id": "fd914962",
   "metadata": {},
   "outputs": [
    {
     "data": {
      "text/plain": [
       "dict_keys(['sentence', 'the', 'is', 'this', 'final', 'and', 'more', 'one', 'another', 'yet', 'second', 'word2vec', 'for', 'first'])"
      ]
     },
     "execution_count": 20,
     "metadata": {},
     "output_type": "execute_result"
    }
   ],
   "source": [
    "model.wv.key_to_index.keys()"
   ]
  },
  {
   "cell_type": "code",
   "execution_count": 11,
   "id": "690af9f6",
   "metadata": {},
   "outputs": [
    {
     "data": {
      "text/plain": [
       "14"
      ]
     },
     "execution_count": 11,
     "metadata": {},
     "output_type": "execute_result"
    }
   ],
   "source": [
    "len(model.wv) "
   ]
  },
  {
   "cell_type": "code",
   "execution_count": 14,
   "id": "76eefb8b",
   "metadata": {},
   "outputs": [
    {
     "data": {
      "text/plain": [
       "array([-5.3622725e-04,  2.3643016e-04,  5.1033497e-03,  9.0092728e-03,\n",
       "       -9.3029495e-03, -7.1168090e-03,  6.4588715e-03,  8.9729885e-03,\n",
       "       -5.0154282e-03, -3.7633730e-03,  7.3805046e-03, -1.5334726e-03,\n",
       "       -4.5366143e-03,  6.5540504e-03, -4.8601604e-03, -1.8160177e-03,\n",
       "        2.8765798e-03,  9.9187379e-04, -8.2852151e-03, -9.4488189e-03,\n",
       "        7.3117660e-03,  5.0702621e-03,  6.7576934e-03,  7.6286553e-04,\n",
       "        6.3508893e-03, -3.4053659e-03, -9.4640255e-04,  5.7685734e-03,\n",
       "       -7.5216386e-03, -3.9361049e-03, -7.5115822e-03, -9.3004224e-04,\n",
       "        9.5381187e-03, -7.3191668e-03, -2.3337698e-03, -1.9377422e-03,\n",
       "        8.0774352e-03, -5.9308959e-03,  4.5161247e-05, -4.7537349e-03,\n",
       "       -9.6035507e-03,  5.0072931e-03, -8.7595871e-03, -4.3918253e-03,\n",
       "       -3.5099984e-05, -2.9618264e-04, -7.6612402e-03,  9.6147414e-03,\n",
       "        4.9820566e-03,  9.2331432e-03, -8.1579182e-03,  4.4957972e-03,\n",
       "       -4.1370774e-03,  8.2453492e-04,  8.4986184e-03, -4.4621779e-03,\n",
       "        4.5175003e-03, -6.7869616e-03, -3.5484887e-03,  9.3985079e-03,\n",
       "       -1.5776539e-03,  3.2137157e-04, -4.1406299e-03, -7.6826881e-03,\n",
       "       -1.5080094e-03,  2.4697948e-03, -8.8802812e-04,  5.5336617e-03,\n",
       "       -2.7429771e-03,  2.2600652e-03,  5.4557943e-03,  8.3459523e-03,\n",
       "       -1.4537406e-03, -9.2081428e-03,  4.3705511e-03,  5.7178497e-04,\n",
       "        7.4419067e-03, -8.1328390e-04, -2.6384138e-03, -8.7530091e-03,\n",
       "       -8.5655687e-04,  2.8265619e-03,  5.4014279e-03,  7.0526553e-03,\n",
       "       -5.7031228e-03,  1.8588186e-03,  6.0888622e-03, -4.7980524e-03,\n",
       "       -3.1072616e-03,  6.7976285e-03,  1.6314745e-03,  1.8991709e-04,\n",
       "        3.4736372e-03,  2.1777629e-04,  9.6188262e-03,  5.0606038e-03,\n",
       "       -8.9173913e-03, -7.0415614e-03,  9.0145587e-04,  6.3925339e-03],\n",
       "      dtype=float32)"
      ]
     },
     "execution_count": 14,
     "metadata": {},
     "output_type": "execute_result"
    }
   ],
   "source": [
    "model.wv['sentence']"
   ]
  },
  {
   "cell_type": "code",
   "execution_count": 24,
   "id": "8671728a",
   "metadata": {},
   "outputs": [
    {
     "data": {
      "text/plain": [
       "['sentence',\n",
       " 'the',\n",
       " 'is',\n",
       " 'this',\n",
       " 'final',\n",
       " 'and',\n",
       " 'more',\n",
       " 'one',\n",
       " 'another',\n",
       " 'yet',\n",
       " 'second',\n",
       " 'word2vec',\n",
       " 'for',\n",
       " 'first']"
      ]
     },
     "execution_count": 24,
     "metadata": {},
     "output_type": "execute_result"
    }
   ],
   "source": [
    "model.wv.index_to_key"
   ]
  },
  {
   "cell_type": "code",
   "execution_count": 27,
   "id": "80949480",
   "metadata": {},
   "outputs": [],
   "source": [
    "## Access the model vocabulary.\n",
    "X = model.wv[model.wv.index_to_key]"
   ]
  },
  {
   "cell_type": "code",
   "execution_count": 29,
   "id": "3956f7c9",
   "metadata": {},
   "outputs": [
    {
     "data": {
      "text/plain": [
       "<matplotlib.collections.PathCollection at 0x247a4848160>"
      ]
     },
     "execution_count": 29,
     "metadata": {},
     "output_type": "execute_result"
    },
    {
     "data": {
      "image/png": "[encoded data removed]",
      "text/plain": [
       "<Figure size 432x288 with 1 Axes>"
      ]
     },
     "metadata": {
      "needs_background": "light"
     },
     "output_type": "display_data"
    }
   ],
   "source": [
    "## Plot Word Vectors Using PCA\n",
    "## We can create a 2-dimensional PCA model of the word vectors using the scikit-learn PCA class\n",
    "## as follows.\n",
    "\n",
    "pca = PCA(n_components = 2)\n",
    "result = pca.fit_transform(X)\n",
    "pyplot.scatter(result[:,0],result[:,1])"
   ]
  },
  {
   "cell_type": "code",
   "execution_count": 35,
   "id": "6f726bfa",
   "metadata": {},
   "outputs": [
    {
     "data": {
      "image/png": "[encoded data removed]",
      "text/plain": [
       "<Figure size 432x288 with 1 Axes>"
      ]
     },
     "metadata": {
      "needs_background": "light"
     },
     "output_type": "display_data"
    }
   ],
   "source": [
    "words = list(model.wv.index_to_key)\n",
    "for i, word in enumerate(words):\n",
    "    pyplot.annotate(word, xy = (result[i,0],result[i,1]))\n",
    "    # set a range on the plot's axis\n",
    "    pyplot.ylim(-0.05, 0.05)\n",
    "    pyplot.xlim(-0.05, 0.05)\n",
    "pyplot.show()"
   ]
  },
  {
   "cell_type": "code",
   "execution_count": 36,
   "id": "ca69c605",
   "metadata": {},
   "outputs": [],
   "source": [
    "from gensim.models import KeyedVectors"
   ]
  },
  {
   "cell_type": "code",
   "execution_count": 38,
   "id": "25465fd0",
   "metadata": {},
   "outputs": [],
   "source": [
    "filename = 'GoogleNews-vectors-negative300.bin'"
   ]
  },
  {
   "cell_type": "code",
   "execution_count": 39,
   "id": "8f22e381",
   "metadata": {},
   "outputs": [],
   "source": [
    "model = KeyedVectors.load_word2vec_format(filename, binary=True)"
   ]
  },
  {
   "cell_type": "code",
   "execution_count": 40,
   "id": "9b3c0efe",
   "metadata": {},
   "outputs": [],
   "source": [
    "result = model.most_similar(positive=['woman', 'king'], negative=['man'], topn=1)"
   ]
  },
  {
   "cell_type": "code",
   "execution_count": 41,
   "id": "d405e285",
   "metadata": {},
   "outputs": [
    {
     "data": {
      "text/plain": [
       "[('queen', 0.7118193507194519)]"
      ]
     },
     "execution_count": 41,
     "metadata": {},
     "output_type": "execute_result"
    }
   ],
   "source": [
    "result"
   ]
  },
  {
   "cell_type": "code",
   "execution_count": 42,
   "id": "14ee3e0b",
   "metadata": {},
   "outputs": [],
   "source": [
    "from gensim.scripts.glove2word2vec import glove2word2vec"
   ]
  },
  {
   "cell_type": "code",
   "execution_count": 44,
   "id": "0dad903d",
   "metadata": {},
   "outputs": [
    {
     "name": "stderr",
     "output_type": "stream",
     "text": [
      "C:\\Users\\Ahmad Abd Elhameed\\Anaconda3\\envs\\nlp\\lib\\site-packages\\ipykernel_launcher.py:3: DeprecationWarning: Call to deprecated `glove2word2vec` (KeyedVectors.load_word2vec_format(.., binary=False, no_header=True) loads GLoVE text vectors.).\n",
      "  This is separate from the ipykernel package so we can avoid doing imports until\n"
     ]
    },
    {
     "data": {
      "text/plain": [
       "(400000, 100)"
      ]
     },
     "execution_count": 44,
     "metadata": {},
     "output_type": "execute_result"
    }
   ],
   "source": [
    "glove_input_file = \"glove.6B.100d.txt\"\n",
    "word2vec_output_file = 'glove.6B.100d.txt.word2vec'\n",
    "glove2word2vec(glove_input_file,word2vec_output_file)"
   ]
  },
  {
   "cell_type": "code",
   "execution_count": 45,
   "id": "b1792aad",
   "metadata": {},
   "outputs": [
    {
     "name": "stdout",
     "output_type": "stream",
     "text": [
      "[('queen', 0.7698540687561035)]\n"
     ]
    }
   ],
   "source": [
    "## load the stanford glove model\n",
    "filename = 'glove.6B.100d.txt.word2vec'\n",
    "model = KeyedVectors.load_word2vec_format(filename , binary = False)\n",
    "## check example\n",
    "result = model.most_similar(positive = ['woman','king'],negative = ['man'] , topn = 1)\n",
    "print(result)"
   ]
  },
  {
   "cell_type": "code",
   "execution_count": 46,
   "id": "3abb24d6",
   "metadata": {},
   "outputs": [],
   "source": [
    "### Example of Learning an Embedding"
   ]
  },
  {
   "cell_type": "code",
   "execution_count": 51,
   "id": "2fbc19a8",
   "metadata": {},
   "outputs": [],
   "source": [
    "from tensorflow.keras.preprocessing.text import one_hot\n",
    "from tensorflow.keras.preprocessing.sequence import pad_sequences\n",
    "from tensorflow.keras.models import Sequential\n",
    "from tensorflow.keras.layers import Dense\n",
    "from tensorflow.keras.layers import Flatten\n",
    "from tensorflow.keras.layers import Embedding"
   ]
  },
  {
   "cell_type": "code",
   "execution_count": 47,
   "id": "cec6bb3c",
   "metadata": {},
   "outputs": [],
   "source": [
    "# define documents\n",
    "docs = ['Well done!',\n",
    "'Good work',\n",
    "'Great effort',\n",
    "'nice work',\n",
    "'Excellent!',\n",
    "'Weak',\n",
    "'Poor effort!',\n",
    "'not good',\n",
    "'poor work',\n",
    "'Could have done better.']"
   ]
  },
  {
   "cell_type": "code",
   "execution_count": 48,
   "id": "84cf73c3",
   "metadata": {},
   "outputs": [],
   "source": [
    "# define class labels\n",
    "labels = [1,1,1,1,1,0,0,0,0,0]"
   ]
  },
  {
   "cell_type": "code",
   "execution_count": 50,
   "id": "bd3bb254",
   "metadata": {},
   "outputs": [
    {
     "name": "stdout",
     "output_type": "stream",
     "text": [
      "[[48, 17], [39, 40], [24, 30], [37, 40], [1], [29], [27, 30], [14, 39], [27, 40], [20, 45, 17, 27]]\n"
     ]
    }
   ],
   "source": [
    "## integer encode \n",
    "vocab_size = 50\n",
    "encoded_docs = [one_hot(d,vocab_size) for d in docs]\n",
    "print(encoded_docs)"
   ]
  },
  {
   "cell_type": "code",
   "execution_count": 54,
   "id": "fdc4d0ce",
   "metadata": {},
   "outputs": [
    {
     "name": "stdout",
     "output_type": "stream",
     "text": [
      "[[48 17  0  0]\n",
      " [39 40  0  0]\n",
      " [24 30  0  0]\n",
      " [37 40  0  0]\n",
      " [ 1  0  0  0]\n",
      " [29  0  0  0]\n",
      " [27 30  0  0]\n",
      " [14 39  0  0]\n",
      " [27 40  0  0]\n",
      " [20 45 17 27]]\n"
     ]
    }
   ],
   "source": [
    "max_length = 4\n",
    "padded_docs = pad_sequences(encoded_docs , maxlen = max_legnth,padding = \"post\")\n",
    "print(padded_docs)"
   ]
  },
  {
   "cell_type": "code",
   "execution_count": 55,
   "id": "50b0ef0b",
   "metadata": {},
   "outputs": [
    {
     "name": "stdout",
     "output_type": "stream",
     "text": [
      "Model: \"sequential_1\"\n",
      "_________________________________________________________________\n",
      "Layer (type)                 Output Shape              Param #   \n",
      "=================================================================\n",
      "embedding (Embedding)        (None, 4, 8)              400       \n",
      "_________________________________________________________________\n",
      "flatten (Flatten)            (None, 32)                0         \n",
      "_________________________________________________________________\n",
      "dense (Dense)                (None, 1)                 33        \n",
      "=================================================================\n",
      "Total params: 433\n",
      "Trainable params: 433\n",
      "Non-trainable params: 0\n",
      "_________________________________________________________________\n"
     ]
    }
   ],
   "source": [
    "## build the model\n",
    "model = Sequential()\n",
    "model.add(Embedding(vocab_size , 8 , input_length = max_length))\n",
    "model.add(Flatten())\n",
    "model.add(Dense(1,activation = \"sigmoid\"))\n",
    "\n",
    "## compile the model\n",
    "model.compile(optimizer = 'adam',loss = 'binary_crossentropy',metrics = 'accuracy')\n",
    "\n",
    "## summarize the model\n",
    "model.summary()"
   ]
  },
  {
   "cell_type": "code",
   "execution_count": 58,
   "id": "8fee3ce6",
   "metadata": {},
   "outputs": [
    {
     "data": {
      "text/plain": [
       "numpy.ndarray"
      ]
     },
     "execution_count": 58,
     "metadata": {},
     "output_type": "execute_result"
    }
   ],
   "source": [
    "type(padded_docs)"
   ]
  },
  {
   "cell_type": "code",
   "execution_count": 62,
   "id": "1d0c100b",
   "metadata": {},
   "outputs": [],
   "source": [
    "labels = np.array(labels)"
   ]
  },
  {
   "cell_type": "code",
   "execution_count": 63,
   "id": "cb6e9d5e",
   "metadata": {},
   "outputs": [],
   "source": [
    "## fit the model\n",
    "model.fit(padded_docs , labels , epochs = 50 , verbose = 0)\n",
    "\n",
    "## evaluate the model\n",
    "loss, accuracy = model.evaluate(padded_docs , labels , verbose = 0)\n"
   ]
  },
  {
   "cell_type": "code",
   "execution_count": 64,
   "id": "342fefc0",
   "metadata": {},
   "outputs": [
    {
     "name": "stdout",
     "output_type": "stream",
     "text": [
      "Accuracy : 80.000001 \n"
     ]
    }
   ],
   "source": [
    "print(\"Accuracy : %f \"% (accuracy * 100))"
   ]
  },
  {
   "cell_type": "code",
   "execution_count": 68,
   "id": "0ff3252b",
   "metadata": {},
   "outputs": [],
   "source": [
    "## load the whole embedding into memory\n",
    "\n",
    "embedding_index = dict()\n",
    "f = open(\"glove.6B.100d.txt\", encoding=\"utf8\")\n",
    "for line in f:\n",
    "    values = line.split()\n",
    "    word = values[0]\n",
    "    coefs = np.asarray(values[1:],dtype = 'float32')\n",
    "    embedding_index[word] = coefs\n",
    "f.close()"
   ]
  },
  {
   "cell_type": "code",
   "execution_count": 69,
   "id": "e517c05a",
   "metadata": {},
   "outputs": [
    {
     "name": "stdout",
     "output_type": "stream",
     "text": [
      "Loaded 400000 word vectors.\n"
     ]
    }
   ],
   "source": [
    "print('Loaded %s word vectors.' % len(embedding_index))"
   ]
  },
  {
   "cell_type": "code",
   "execution_count": 70,
   "id": "1762d721",
   "metadata": {},
   "outputs": [
    {
     "data": {
      "text/plain": [
       "101"
      ]
     },
     "execution_count": 70,
     "metadata": {},
     "output_type": "execute_result"
    }
   ],
   "source": [
    "len(values)"
   ]
  },
  {
   "cell_type": "code",
   "execution_count": 71,
   "id": "a4ce0025",
   "metadata": {},
   "outputs": [
    {
     "data": {
      "text/plain": [
       "'sandberger'"
      ]
     },
     "execution_count": 71,
     "metadata": {},
     "output_type": "execute_result"
    }
   ],
   "source": [
    "word"
   ]
  },
  {
   "cell_type": "code",
   "execution_count": 76,
   "id": "a7d14337",
   "metadata": {},
   "outputs": [],
   "source": [
    "## prepare tokenizer\n",
    "tokenizer = Tokenizer()\n",
    "tokenizer.fit_on_texts(docs)"
   ]
  },
  {
   "cell_type": "code",
   "execution_count": 78,
   "id": "a5d83636",
   "metadata": {},
   "outputs": [],
   "source": [
    "vocab_size = len(tokenizer.word_index) +1 "
   ]
  },
  {
   "cell_type": "code",
   "execution_count": 79,
   "id": "8b8c7a18",
   "metadata": {},
   "outputs": [],
   "source": [
    "encoded_docs = tokenizer.texts_to_sequences(docs)"
   ]
  },
  {
   "cell_type": "code",
   "execution_count": 80,
   "id": "1aab7e00",
   "metadata": {},
   "outputs": [
    {
     "data": {
      "text/plain": [
       "[[6, 2],\n",
       " [3, 1],\n",
       " [7, 4],\n",
       " [8, 1],\n",
       " [9],\n",
       " [10],\n",
       " [5, 4],\n",
       " [11, 3],\n",
       " [5, 1],\n",
       " [12, 13, 2, 14]]"
      ]
     },
     "execution_count": 80,
     "metadata": {},
     "output_type": "execute_result"
    }
   ],
   "source": [
    "encoded_docs"
   ]
  },
  {
   "cell_type": "code",
   "execution_count": 81,
   "id": "3baac416",
   "metadata": {},
   "outputs": [],
   "source": [
    "max_length = 4\n",
    "padded_docs = pad_sequences(encoded_docs,maxlen = max_length , padding = 'post')"
   ]
  },
  {
   "cell_type": "code",
   "execution_count": 82,
   "id": "975403ee",
   "metadata": {},
   "outputs": [
    {
     "data": {
      "text/plain": [
       "array([[ 6,  2,  0,  0],\n",
       "       [ 3,  1,  0,  0],\n",
       "       [ 7,  4,  0,  0],\n",
       "       [ 8,  1,  0,  0],\n",
       "       [ 9,  0,  0,  0],\n",
       "       [10,  0,  0,  0],\n",
       "       [ 5,  4,  0,  0],\n",
       "       [11,  3,  0,  0],\n",
       "       [ 5,  1,  0,  0],\n",
       "       [12, 13,  2, 14]])"
      ]
     },
     "execution_count": 82,
     "metadata": {},
     "output_type": "execute_result"
    }
   ],
   "source": [
    "padded_docs"
   ]
  },
  {
   "cell_type": "code",
   "execution_count": 85,
   "id": "9e6f1e69",
   "metadata": {},
   "outputs": [],
   "source": [
    "## create weight matrix for words in training docs\n",
    "embedding_matrix = zeros((vocab_size , 100))\n",
    "for word, i in tokenizer.word_index.items():\n",
    "    embedding_vector = embedding_index.get(word)\n",
    "    if embedding_vector is not None:\n",
    "        embedding_matrix[i] = embedding_vector"
   ]
  },
  {
   "cell_type": "code",
   "execution_count": 87,
   "id": "e3d9e7ae",
   "metadata": {},
   "outputs": [
    {
     "data": {
      "text/plain": [
       "(15, 100)"
      ]
     },
     "execution_count": 87,
     "metadata": {},
     "output_type": "execute_result"
    }
   ],
   "source": [
    "embedding_matrix.shape"
   ]
  },
  {
   "cell_type": "code",
   "execution_count": 89,
   "id": "3ae698b1",
   "metadata": {},
   "outputs": [],
   "source": [
    "## define model\n",
    "model = Sequential()\n",
    "embedding_layer = Embedding(vocab_size,100 , weights = [embedding_matrix],input_length = 4 ,trainable=False )\n",
    "model.add(embedding_layer)\n",
    "model.add(Flatten())\n",
    "model.add(Dense(1,activation = \"sigmoid\"))"
   ]
  },
  {
   "cell_type": "code",
   "execution_count": 93,
   "id": "6a1d819d",
   "metadata": {},
   "outputs": [],
   "source": [
    "model.compile(optimizer = 'adam' , loss = 'binary_crossentropy' , metrics = 'accuracy')"
   ]
  },
  {
   "cell_type": "code",
   "execution_count": 94,
   "id": "f8545504",
   "metadata": {},
   "outputs": [
    {
     "name": "stdout",
     "output_type": "stream",
     "text": [
      "Model: \"sequential_2\"\n",
      "_________________________________________________________________\n",
      "Layer (type)                 Output Shape              Param #   \n",
      "=================================================================\n",
      "embedding_1 (Embedding)      (None, 4, 100)            1500      \n",
      "_________________________________________________________________\n",
      "flatten_1 (Flatten)          (None, 400)               0         \n",
      "_________________________________________________________________\n",
      "dense_1 (Dense)              (None, 1)                 401       \n",
      "=================================================================\n",
      "Total params: 1,901\n",
      "Trainable params: 401\n",
      "Non-trainable params: 1,500\n",
      "_________________________________________________________________\n"
     ]
    }
   ],
   "source": [
    "model.summary()"
   ]
  },
  {
   "cell_type": "code",
   "execution_count": 95,
   "id": "2ee7e697",
   "metadata": {},
   "outputs": [
    {
     "data": {
      "text/plain": [
       "<tensorflow.python.keras.callbacks.History at 0x247b2eb44a8>"
      ]
     },
     "execution_count": 95,
     "metadata": {},
     "output_type": "execute_result"
    }
   ],
   "source": [
    "model.fit(padded_docs , labels , epochs = 50,verbose = 0)"
   ]
  },
  {
   "cell_type": "code",
   "execution_count": 96,
   "id": "472a8287",
   "metadata": {},
   "outputs": [],
   "source": [
    "## evaluate the model\n",
    "loss, accuracy = model.evaluate(padded_docs , labels , verbose = 0)"
   ]
  },
  {
   "cell_type": "code",
   "execution_count": 98,
   "id": "9ac3dfef",
   "metadata": {},
   "outputs": [
    {
     "name": "stdout",
     "output_type": "stream",
     "text": [
      "100.0\n"
     ]
    }
   ],
   "source": [
    "print(accuracy * 100)"
   ]
  },
  {
   "cell_type": "code",
   "execution_count": null,
   "id": "fe495384",
   "metadata": {},
   "outputs": [],
   "source": []
  }
 ],
 "metadata": {
  "kernelspec": {
   "display_name": "Python 3",
   "language": "python",
   "name": "python3"
  },
  "language_info": {
   "codemirror_mode": {
    "name": "ipython",
    "version": 3
   },
   "file_extension": ".py",
   "mimetype": "text/x-python",
   "name": "python",
   "nbconvert_exporter": "python",
   "pygments_lexer": "ipython3",
   "version": "3.6.9"
  }
 },
 "nbformat": 4,
 "nbformat_minor": 5
}
