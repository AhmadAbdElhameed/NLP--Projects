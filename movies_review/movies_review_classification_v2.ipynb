{
 "cells": [
  {
   "cell_type": "code",
   "execution_count": 146,
   "id": "b07181b6",
   "metadata": {},
   "outputs": [],
   "source": [
    "import numpy as np\n",
    "import pandas as pd\n",
    "import os"
   ]
  },
  {
   "cell_type": "code",
   "execution_count": 147,
   "id": "4d468f7e",
   "metadata": {},
   "outputs": [],
   "source": [
    "from collections import Counter\n",
    "from nltk.corpus import stopwords\n",
    "import string\n",
    "import re"
   ]
  },
  {
   "cell_type": "code",
   "execution_count": 148,
   "id": "ad04e205",
   "metadata": {},
   "outputs": [
    {
     "data": {
      "text/plain": [
       "['neg', 'pos']"
      ]
     },
     "execution_count": 148,
     "metadata": {},
     "output_type": "execute_result"
    }
   ],
   "source": [
    "os.listdir(\"txt_sentoken\")"
   ]
  },
  {
   "cell_type": "code",
   "execution_count": 149,
   "id": "2dbf287a",
   "metadata": {},
   "outputs": [],
   "source": [
    "# load one file\n",
    "filename = 'txt_sentoken/neg/cv000_29416.txt'\n",
    "# open the file as read only\n",
    "file = open(filename, 'r')\n",
    "# read all text\n",
    "text = file.read()\n",
    "# close the file\n",
    "file.close()"
   ]
  },
  {
   "cell_type": "code",
   "execution_count": 150,
   "id": "b9fcb530",
   "metadata": {},
   "outputs": [
    {
     "name": "stdout",
     "output_type": "stream",
     "text": [
      "plot : two teen couples go to a church party , drink and then drive . \n",
      "they get into an accident . \n",
      "one of the guys dies , but his girlfriend continues to see him in her life , and has nightmares . \n",
      "what's the deal ? \n",
      "watch the movie and \" sorta \" find out . . . \n",
      "critique : a mind-fuck movie for the teen generation that touches on a very cool idea , but presents it in a very bad package . \n",
      "which is what makes this review an even harder one to write , since i generally applaud films which attempt to break the mold , mess with your head and such ( lost highway & memento ) , but there are good and bad ways of making all types of films , and these folks just didn't snag this one correctly . \n",
      "they seem to have taken this pretty neat concept , but executed it terribly . \n",
      "so what are the problems with the movie ? \n",
      "well , its main problem is that it's simply too jumbled . \n",
      "it starts off \" normal \" but then downshifts into this \" fantasy \" world in which you , as an audience member , have no idea what's going on . \n",
      "there are dreams , there are characters coming back from the dead , there are others who look like the dead , there are strange apparitions , there are disappearances , there are a looooot of chase scenes , there are tons of weird things that happen , and most of it is simply not explained . \n",
      "now i personally don't mind trying to unravel a film every now and then , but when all it does is give me the same clue over and over again , i get kind of fed up after a while , which is this film's biggest problem . \n",
      "it's obviously got this big secret to hide , but it seems to want to hide it completely until its final five minutes . \n",
      "and do they make things entertaining , thrilling or even engaging , in the meantime ? \n",
      "not really . \n",
      "the sad part is that the arrow and i both dig on flicks like this , so we actually figured most of it out by the half-way point , so all of the strangeness after that did start to make a little bit of sense , but it still didn't the make the film all that more entertaining . \n",
      "i guess the bottom line with movies like this is that you should always make sure that the audience is \" into it \" even before they are given the secret password to enter your world of understanding . \n",
      "i mean , showing melissa sagemiller running away from visions for about 20 minutes throughout the movie is just plain lazy ! ! \n",
      "okay , we get it . . . there \n",
      "are people chasing her and we don't know who they are . \n",
      "do we really need to see it over and over again ? \n",
      "how about giving us different scenes offering further insight into all of the strangeness going down in the movie ? \n",
      "apparently , the studio took this film away from its director and chopped it up themselves , and it shows . \n",
      "there might've been a pretty decent teen mind-fuck movie in here somewhere , but i guess \" the suits \" decided that turning it into a music video with little edge , would make more sense . \n",
      "the actors are pretty good for the most part , although wes bentley just seemed to be playing the exact same character that he did in american beauty , only in a new neighborhood . \n",
      "but my biggest kudos go out to sagemiller , who holds her own throughout the entire film , and actually has you feeling her character's unraveling . \n",
      "overall , the film doesn't stick because it doesn't entertain , it's confusing , it rarely excites and it feels pretty redundant for most of its runtime , despite a pretty cool ending and explanation to all of the craziness that came before it . \n",
      "oh , and by the way , this is not a horror or teen slasher flick . . . it's \n",
      "just packaged to look that way because someone is apparently assuming that the genre is still hot with the kids . \n",
      "it also wrapped production two years ago and has been sitting on the shelves ever since . \n",
      "whatever . . . skip \n",
      "it ! \n",
      "where's joblo coming from ? \n",
      "a nightmare of elm street 3 ( 7/10 ) - blair witch 2 ( 7/10 ) - the crow ( 9/10 ) - the crow : salvation ( 4/10 ) - lost highway ( 10/10 ) - memento ( 10/10 ) - the others ( 9/10 ) - stir of echoes ( 8/10 ) \n",
      "\n"
     ]
    }
   ],
   "source": [
    "print(text)"
   ]
  },
  {
   "cell_type": "code",
   "execution_count": 151,
   "id": "e8be4b62",
   "metadata": {},
   "outputs": [],
   "source": [
    "def load_doc(file):\n",
    "    file = open(file,\"r\")\n",
    "    ## read all text\n",
    "    text = file.read()\n",
    "    #close file\n",
    "    file.close()\n",
    "    return text"
   ]
  },
  {
   "cell_type": "code",
   "execution_count": 152,
   "id": "7f6521d5",
   "metadata": {},
   "outputs": [],
   "source": [
    "directory = 'txt_sentoken/neg'"
   ]
  },
  {
   "cell_type": "code",
   "execution_count": 153,
   "id": "520e46e9",
   "metadata": {},
   "outputs": [],
   "source": [
    "def process_doc(directory):\n",
    "    for filename in os.listdir(directory):\n",
    "        if not filename.endswith(\".txt\"):\n",
    "            next\n",
    "        path = directory + \"/\" + filename\n",
    "        ## load document\n",
    "        doc = load_doc(path)\n"
   ]
  },
  {
   "cell_type": "code",
   "execution_count": 154,
   "id": "e3504d9e",
   "metadata": {},
   "outputs": [],
   "source": [
    "filename = 'txt_sentoken/neg/cv000_29416.txt'"
   ]
  },
  {
   "cell_type": "code",
   "execution_count": 155,
   "id": "ff9ee121",
   "metadata": {},
   "outputs": [],
   "source": [
    "text = load_doc(filename)"
   ]
  },
  {
   "cell_type": "code",
   "execution_count": 156,
   "id": "e99bb7c9",
   "metadata": {},
   "outputs": [
    {
     "data": {
      "text/plain": [
       "'plot : two teen couples go to '"
      ]
     },
     "execution_count": 156,
     "metadata": {},
     "output_type": "execute_result"
    }
   ],
   "source": [
    "text[:30]"
   ]
  },
  {
   "cell_type": "code",
   "execution_count": 157,
   "id": "716d5b28",
   "metadata": {},
   "outputs": [],
   "source": [
    "tokens = text.split(\" \")"
   ]
  },
  {
   "cell_type": "code",
   "execution_count": 158,
   "id": "bee365e1",
   "metadata": {},
   "outputs": [
    {
     "name": "stdout",
     "output_type": "stream",
     "text": [
      "['plot', ':', 'two', 'teen', 'couples', 'go', 'to', 'a', 'church', 'party']\n"
     ]
    }
   ],
   "source": [
    "print(tokens[:10])"
   ]
  },
  {
   "cell_type": "code",
   "execution_count": 159,
   "id": "872a9a6f",
   "metadata": {},
   "outputs": [],
   "source": [
    "## turn a doc into a clean words\n",
    "def doc_clean(doc):\n",
    "    ## split into words\n",
    "    tokens = doc.split()\n",
    "    ## remove punctuation \n",
    "    re_punc = re.compile('[%s]' % re.escape(string.punctuation))\n",
    "    tokens = [re_punc.sub(\"\",w) for w in tokens]\n",
    "    ## keep alphabeic words\n",
    "    tokens = [word for word in tokens if word.isalpha]\n",
    "    ## remove stop words\n",
    "    stop_words = set(stopwords.words(\"english\"))\n",
    "    tokens = [word for word in tokens if not word in stop_words]\n",
    "    ## remove shorter words\n",
    "    tokens = [word for word in tokens if len(word) > 1]\n",
    "    \n",
    "    return tokens"
   ]
  },
  {
   "cell_type": "code",
   "execution_count": 160,
   "id": "ce46800a",
   "metadata": {},
   "outputs": [
    {
     "name": "stdout",
     "output_type": "stream",
     "text": [
      "['plot', 'two', 'teen', 'couples', 'go', 'church', 'party', 'drink', 'drive', 'get', 'accident', 'one', 'guys', 'dies', 'girlfriend', 'continues', 'see', 'life', 'nightmares', 'whats', 'deal', 'watch', 'movie', 'sorta', 'find', 'critique', 'mindfuck', 'movie', 'teen', 'generation', 'touches', 'cool', 'idea', 'presents', 'bad', 'package', 'makes', 'review', 'even', 'harder', 'one', 'write', 'since', 'generally', 'applaud', 'films', 'attempt', 'break', 'mold', 'mess', 'head', 'lost', 'highway', 'memento', 'good', 'bad', 'ways', 'making', 'types', 'films', 'folks', 'didnt', 'snag', 'one', 'correctly', 'seem', 'taken', 'pretty', 'neat', 'concept', 'executed', 'terribly', 'problems', 'movie', 'well', 'main', 'problem', 'simply', 'jumbled', 'starts', 'normal', 'downshifts', 'fantasy', 'world', 'audience', 'member', 'idea', 'whats', 'going', 'dreams', 'characters', 'coming', 'back', 'dead', 'others', 'look', 'like', 'dead', 'strange', 'apparitions', 'disappearances', 'looooot', 'chase', 'scenes', 'tons', 'weird', 'things', 'happen', 'simply', 'explained', 'personally', 'dont', 'mind', 'trying', 'unravel', 'film', 'every', 'give', 'clue', 'get', 'kind', 'fed', 'films', 'biggest', 'problem', 'obviously', 'got', 'big', 'secret', 'hide', 'seems', 'want', 'hide', 'completely', 'final', 'five', 'minutes', 'make', 'things', 'entertaining', 'thrilling', 'even', 'engaging', 'meantime', 'really', 'sad', 'part', 'arrow', 'dig', 'flicks', 'like', 'actually', 'figured', 'halfway', 'point', 'strangeness', 'start', 'make', 'little', 'bit', 'sense', 'still', 'didnt', 'make', 'film', 'entertaining', 'guess', 'bottom', 'line', 'movies', 'like', 'always', 'make', 'sure', 'audience', 'even', 'given', 'secret', 'password', 'enter', 'world', 'understanding', 'mean', 'showing', 'melissa', 'sagemiller', 'running', 'away', 'visions', '20', 'minutes', 'throughout', 'movie', 'plain', 'lazy', 'okay', 'get', 'people', 'chasing', 'dont', 'know', 'really', 'need', 'see', 'giving', 'us', 'different', 'scenes', 'offering', 'insight', 'strangeness', 'going', 'movie', 'apparently', 'studio', 'took', 'film', 'away', 'director', 'chopped', 'shows', 'mightve', 'pretty', 'decent', 'teen', 'mindfuck', 'movie', 'somewhere', 'guess', 'suits', 'decided', 'turning', 'music', 'video', 'little', 'edge', 'would', 'make', 'sense', 'actors', 'pretty', 'good', 'part', 'although', 'wes', 'bentley', 'seemed', 'playing', 'exact', 'character', 'american', 'beauty', 'new', 'neighborhood', 'biggest', 'kudos', 'go', 'sagemiller', 'holds', 'throughout', 'entire', 'film', 'actually', 'feeling', 'characters', 'unraveling', 'overall', 'film', 'doesnt', 'stick', 'doesnt', 'entertain', 'confusing', 'rarely', 'excites', 'feels', 'pretty', 'redundant', 'runtime', 'despite', 'pretty', 'cool', 'ending', 'explanation', 'craziness', 'came', 'oh', 'way', 'horror', 'teen', 'slasher', 'flick', 'packaged', 'look', 'way', 'someone', 'apparently', 'assuming', 'genre', 'still', 'hot', 'kids', 'also', 'wrapped', 'production', 'two', 'years', 'ago', 'sitting', 'shelves', 'ever', 'since', 'whatever', 'skip', 'wheres', 'joblo', 'coming', 'nightmare', 'elm', 'street', '710', 'blair', 'witch', '710', 'crow', '910', 'crow', 'salvation', '410', 'lost', 'highway', '1010', 'memento', '1010', 'others', '910', 'stir', 'echoes', '810']\n"
     ]
    }
   ],
   "source": [
    "filename = 'txt_sentoken/neg/cv000_29416.txt'\n",
    "text = load_doc(filename)\n",
    "tokens = doc_clean(text)\n",
    "print(tokens)"
   ]
  },
  {
   "cell_type": "code",
   "execution_count": 161,
   "id": "fdb52e5b",
   "metadata": {},
   "outputs": [],
   "source": [
    "## function to load another doc and add to vocab list\n",
    "def add_doc_to_vocab(filename,vocab):\n",
    "    ## load doc \n",
    "    doc = load_doc(filename)\n",
    "    # clean doc\n",
    "    tokens = doc_clean(doc)\n",
    "    # update tokens\n",
    "    vocab.update(tokens)"
   ]
  },
  {
   "cell_type": "code",
   "execution_count": 162,
   "id": "fc9582b7",
   "metadata": {},
   "outputs": [],
   "source": [
    "## load all docs in a directory\n",
    "def process_docs(directory,vocab):\n",
    "    ## walk through all files in directory\n",
    "    for filename in os.listdir(directory):\n",
    "        if not filename.endswith(\".txt\"):\n",
    "            next\n",
    "        ## create full path\n",
    "        path = directory + '/' + filename\n",
    "        ## add to vocab\n",
    "        add_doc_to_vocab(path,vocab)"
   ]
  },
  {
   "cell_type": "code",
   "execution_count": 163,
   "id": "96449798",
   "metadata": {},
   "outputs": [
    {
     "name": "stdout",
     "output_type": "stream",
     "text": [
      "47394\n"
     ]
    }
   ],
   "source": [
    "## define vocab\n",
    "vocab = Counter()\n",
    "## add all docs to vocab\n",
    "process_docs(\"txt_sentoken/neg\",vocab)\n",
    "process_docs(\"txt_sentoken/pos\",vocab)\n",
    "# print the size of vocab list\n",
    "print(len(vocab))"
   ]
  },
  {
   "cell_type": "code",
   "execution_count": 164,
   "id": "9802b27a",
   "metadata": {},
   "outputs": [
    {
     "data": {
      "text/plain": [
       "[('film', 8860),\n",
       " ('one', 5521),\n",
       " ('movie', 5440),\n",
       " ('like', 3553),\n",
       " ('even', 2555),\n",
       " ('good', 2320),\n",
       " ('time', 2283),\n",
       " ('story', 2118),\n",
       " ('films', 2102),\n",
       " ('would', 2042)]"
      ]
     },
     "execution_count": 164,
     "metadata": {},
     "output_type": "execute_result"
    }
   ],
   "source": [
    "vocab.most_common(10)"
   ]
  },
  {
   "cell_type": "code",
   "execution_count": 165,
   "id": "aa982e34",
   "metadata": {},
   "outputs": [
    {
     "name": "stdout",
     "output_type": "stream",
     "text": [
      "14985\n"
     ]
    }
   ],
   "source": [
    "## keep tokens with more 5 occurrence\n",
    "min_occurane = 5\n",
    "tokens = [word for word,count in vocab.items() if count >= min_occurane]\n",
    "print(len(tokens))"
   ]
  },
  {
   "cell_type": "code",
   "execution_count": null,
   "id": "7ce64621",
   "metadata": {},
   "outputs": [],
   "source": []
  },
  {
   "cell_type": "code",
   "execution_count": 166,
   "id": "048ba541",
   "metadata": {},
   "outputs": [],
   "source": [
    "## save the vocab list in a new file\n",
    "def save_list(lines,filename):\n",
    "    data = '\\n'.join(lines)\n",
    "    file = open(filename,\"w\")\n",
    "    file.write(data)\n",
    "    file.close()"
   ]
  },
  {
   "cell_type": "code",
   "execution_count": 167,
   "id": "1b26bcd0",
   "metadata": {},
   "outputs": [],
   "source": [
    "save_list(vocab,\"vocab.txt\")"
   ]
  },
  {
   "cell_type": "code",
   "execution_count": 168,
   "id": "590433ac",
   "metadata": {},
   "outputs": [],
   "source": [
    "vocab_filename = \"vocab.txt\""
   ]
  },
  {
   "cell_type": "code",
   "execution_count": 169,
   "id": "d7ba5469",
   "metadata": {},
   "outputs": [],
   "source": [
    "vocab = load_doc(vocab_filename)"
   ]
  },
  {
   "cell_type": "code",
   "execution_count": 170,
   "id": "47117d73",
   "metadata": {},
   "outputs": [],
   "source": [
    "vocab = vocab.split()"
   ]
  },
  {
   "cell_type": "code",
   "execution_count": 171,
   "id": "bf067927",
   "metadata": {},
   "outputs": [],
   "source": [
    "vocab = set(vocab)"
   ]
  },
  {
   "cell_type": "code",
   "execution_count": 122,
   "id": "a70eb2b4",
   "metadata": {},
   "outputs": [],
   "source": [
    "## can clean the reviews, use the loaded vocab to filter out unwanted tokens, and\n",
    "## save the clean reviews in a new file.\n",
    "## load doc , clean and return line of tokens\n",
    "def doc_to_line(filename,vocab):\n",
    "    ## load doc\n",
    "    doc = load_doc(filename)\n",
    "    ## clean doc\n",
    "    tokens = doc_clean(doc)\n",
    "    ## filter by vocab\n",
    "    tokens = [word for word in tokens if word in vocab]\n",
    "    return \" \".join(tokens)"
   ]
  },
  {
   "cell_type": "code",
   "execution_count": 123,
   "id": "4d611d8a",
   "metadata": {},
   "outputs": [],
   "source": [
    "## step through all reviews in a folder and convert them to lines\n",
    "def process_docs(directory,vocab,is_train):\n",
    "    lines = list()\n",
    "    ## walk through all files in folder\n",
    "    for filename in os.listdir(directory):\n",
    "        if is_train and filename.startswith(\"cv6\"):\n",
    "            continue\n",
    "        if not is_train and not filename.startswith(\"cv6\"):\n",
    "            continue\n",
    "        ## create full path\n",
    "        path = directory + \"/\" + filename\n",
    "        ## load doc\n",
    "        line = doc_to_line(path,vocab)\n",
    "        ## add to list\n",
    "        lines.append(line)\n",
    "    return lines"
   ]
  },
  {
   "cell_type": "code",
   "execution_count": 124,
   "id": "bf0201c8",
   "metadata": {},
   "outputs": [],
   "source": [
    "## prepare negative reviews\n",
    "#negative_lines = process_docs(\"txt_sentoken/neg\",vocab,)\n",
    "#save_list(negative_lines,\"negative.txt\")\n",
    "## prepare positive reviews\n",
    "#positive_lines = process_docs(\"txt_sentoken/pos\",vocab)\n",
    "#save_list(positive_lines,\"positive.txt\")"
   ]
  },
  {
   "cell_type": "markdown",
   "id": "14c29814",
   "metadata": {},
   "source": [
    "The example saves two new files, negative.txt and positive.txt, that contain the\n",
    "prepared negative and positive reviews respectively. The data is ready for use in a bag-of-words\n",
    "or even word embedding model. saves two new files, negative.txt and positive.txt, that contain the\n",
    "prepared negative and positive reviews respectively. The data is ready for use in a bag-of-words\n",
    "or even word embedding model."
   ]
  },
  {
   "cell_type": "code",
   "execution_count": 125,
   "id": "fe370eae",
   "metadata": {},
   "outputs": [],
   "source": [
    "## Function to load movie reviews and prepare output labels.\n",
    "def load_and_clean_dataset(vocab,is_train):\n",
    "    ## load document\n",
    "    neg = process_docs(\"txt_sentoken/neg\",vocab,is_train)\n",
    "    pos = process_docs(\"txt_sentoken/pos\",vocab,is_train)\n",
    "    docs = neg + pos\n",
    "    ## prepare labels\n",
    "    labels = [0 for _ in range(len(neg))] + [1 for _ in range(len(pos))]\n",
    "    return docs , labels"
   ]
  },
  {
   "cell_type": "code",
   "execution_count": 126,
   "id": "b79b93bb",
   "metadata": {},
   "outputs": [],
   "source": [
    "# load vocab\n",
    "vocab_filename = \"vocab.txt\"\n",
    "vocab = load_doc(vocab_filename)\n",
    "vocab = set(vocab.split())"
   ]
  },
  {
   "cell_type": "code",
   "execution_count": 127,
   "id": "617ea4cf",
   "metadata": {},
   "outputs": [],
   "source": [
    "train_docs,train_labels = load_and_clean_dataset(vocab,True)\n",
    "test_docs,test_labels = load_and_clean_dataset(vocab,False)"
   ]
  },
  {
   "cell_type": "code",
   "execution_count": 128,
   "id": "30826b62",
   "metadata": {},
   "outputs": [
    {
     "data": {
      "text/plain": [
       "(1800, 1800)"
      ]
     },
     "execution_count": 128,
     "metadata": {},
     "output_type": "execute_result"
    }
   ],
   "source": [
    "len(train_docs),len(train_labels)"
   ]
  },
  {
   "cell_type": "code",
   "execution_count": 129,
   "id": "b3dce394",
   "metadata": {},
   "outputs": [
    {
     "data": {
      "text/plain": [
       "(200, 200)"
      ]
     },
     "execution_count": 129,
     "metadata": {},
     "output_type": "execute_result"
    }
   ],
   "source": [
    "len(test_docs),len(test_labels)"
   ]
  },
  {
   "cell_type": "code",
   "execution_count": 130,
   "id": "b7477729",
   "metadata": {},
   "outputs": [],
   "source": [
    "import tensorflow as tf"
   ]
  },
  {
   "cell_type": "code",
   "execution_count": 131,
   "id": "3e7068da",
   "metadata": {},
   "outputs": [],
   "source": [
    "from tensorflow.keras.preprocessing.text import Tokenizer"
   ]
  },
  {
   "cell_type": "code",
   "execution_count": 132,
   "id": "38efb3e9",
   "metadata": {},
   "outputs": [],
   "source": [
    "# fit a tokenizer\n",
    "def create_tokenizer(lines):\n",
    "    tokenizer = Tokenizer()\n",
    "    tokenizer.fit_on_texts(lines)\n",
    "    return tokenizer"
   ]
  },
  {
   "cell_type": "code",
   "execution_count": 133,
   "id": "1dfaf2d2",
   "metadata": {},
   "outputs": [],
   "source": [
    "tokenizer = create_tokenizer(train_docs)"
   ]
  },
  {
   "cell_type": "code",
   "execution_count": 134,
   "id": "3ccebf43",
   "metadata": {},
   "outputs": [],
   "source": [
    "## Encode data\n",
    "X_train = tokenizer.texts_to_matrix(train_docs,mode = \"freq\")\n",
    "X_test = tokenizer.texts_to_matrix(test_docs,mode = \"freq\")"
   ]
  },
  {
   "cell_type": "code",
   "execution_count": 135,
   "id": "358056a0",
   "metadata": {},
   "outputs": [
    {
     "data": {
      "text/plain": [
       "(1800, 44890)"
      ]
     },
     "execution_count": 135,
     "metadata": {},
     "output_type": "execute_result"
    }
   ],
   "source": [
    "X_train.shape"
   ]
  },
  {
   "cell_type": "code",
   "execution_count": 136,
   "id": "473c1043",
   "metadata": {},
   "outputs": [
    {
     "data": {
      "text/plain": [
       "(200, 44890)"
      ]
     },
     "execution_count": 136,
     "metadata": {},
     "output_type": "execute_result"
    }
   ],
   "source": [
    "X_test.shape"
   ]
  },
  {
   "cell_type": "code",
   "execution_count": 189,
   "id": "061efad7",
   "metadata": {},
   "outputs": [],
   "source": [
    "from tensorflow.keras.models import Sequential\n",
    "from tensorflow.keras.layers import Dense\n",
    "from tensorflow.keras.optimizers import SGD\n",
    "from tensorflow.keras.preprocessing.text import Tokenizer"
   ]
  },
  {
   "cell_type": "code",
   "execution_count": 138,
   "id": "f12864ec",
   "metadata": {},
   "outputs": [],
   "source": [
    "## define the model\n",
    "def build_model(n_words):\n",
    "    ## model architecture\n",
    "    model = Sequential()\n",
    "    model.add(Dense(100,input_shape =(n_words,),activation = 'relu'))\n",
    "    model.add(Dense(1,activation=\"sigmoid\"))\n",
    "    ## compile model\n",
    "    opt = SGD(lr=0.01)\n",
    "    model.compile(loss=\"binary_crossentropy\",optimizer= opt,metrics=['accuracy'])\n",
    "    ## summary of the model\n",
    "    model.summary()\n",
    "    return model"
   ]
  },
  {
   "cell_type": "code",
   "execution_count": 182,
   "id": "a24dc217",
   "metadata": {},
   "outputs": [],
   "source": [
    "def load_doc(file):\n",
    "    file = open(file,\"r\")\n",
    "    ## read all text\n",
    "    text = file.read()\n",
    "    #close file\n",
    "    file.close()\n",
    "    return text\n",
    "\n",
    "## turn a doc into a clean words\n",
    "def doc_clean(doc):\n",
    "    ## split into words\n",
    "    tokens = doc.split()\n",
    "    ## remove punctuation \n",
    "    re_punc = re.compile('[%s]' % re.escape(string.punctuation))\n",
    "    tokens = [re_punc.sub(\"\",w) for w in tokens]\n",
    "    ## keep alphabeic words\n",
    "    tokens = [word for word in tokens if word.isalpha]\n",
    "    ## remove stop words\n",
    "    stop_words = set(stopwords.words(\"english\"))\n",
    "    tokens = [word for word in tokens if not word in stop_words]\n",
    "    ## remove shorter words\n",
    "    tokens = [word for word in tokens if len(word) > 1]\n",
    "    \n",
    "    return tokens\n",
    "## can clean the reviews, use the loaded vocab to filter out unwanted tokens, and\n",
    "## save the clean reviews in a new file.\n",
    "## load doc , clean and return line of tokens\n",
    "def doc_to_line(filename,vocab):\n",
    "    ## load doc\n",
    "    doc = load_doc(filename)\n",
    "    ## clean doc\n",
    "    tokens = doc_clean(doc)\n",
    "    ## filter by vocab\n",
    "    tokens = [word for word in tokens if word in vocab]\n",
    "    return \" \".join(tokens)\n",
    "\n",
    "def process_docs(directory,vocab,is_train):\n",
    "    lines = list()\n",
    "    ## walk through all files in folder\n",
    "    for filename in os.listdir(directory):\n",
    "        if is_train and filename.startswith(\"cv6\"):\n",
    "            continue\n",
    "        if not is_train and not filename.startswith(\"cv6\"):\n",
    "            continue\n",
    "        ## create full path\n",
    "        path = directory + \"/\" + filename\n",
    "        ## load doc\n",
    "        line = doc_to_line(path,vocab)\n",
    "        ## add to list\n",
    "        lines.append(line)\n",
    "    return lines\n",
    "\n",
    "\n",
    "\n",
    "## Function to load movie reviews and prepare output labels.\n",
    "def load_and_clean_dataset(vocab,is_train):\n",
    "    ## load document\n",
    "    neg = process_docs(\"txt_sentoken/neg\",vocab,is_train)\n",
    "    pos = process_docs(\"txt_sentoken/pos\",vocab,is_train)\n",
    "    docs = neg + pos\n",
    "    ## prepare labels\n",
    "    labels = [0 for _ in range(len(neg))] + [1 for _ in range(len(pos))]\n",
    "    return docs , np.array(labels)\n",
    "\n",
    "# fit a tokenizer\n",
    "def create_tokenizer_2(lines):\n",
    "    tokenizer = Tokenizer()\n",
    "    tokenizer.fit_on_texts(lines)\n",
    "    return tokenizer\n",
    "\n",
    "## define the model\n",
    "def build_model(n_words):\n",
    "    ## model architecture\n",
    "    model = Sequential()\n",
    "    model.add(Dense(100,input_shape =(n_words,),activation = 'relu'))\n",
    "    model.add(Dense(1,activation=\"sigmoid\"))\n",
    "    ## compile model\n",
    "    #opt = SGD(lr=0.01)\n",
    "    #model.compile(loss=\"binary_crossentropy\",optimizer= opt,metrics=['accuracy'])\n",
    "    # compile network\n",
    "    model.compile(loss='binary_crossentropy', optimizer='adam', metrics=['accuracy'])\n",
    "    # summarize defined model\n",
    "    ## summary of the model\n",
    "    model.summary()\n",
    "    return model"
   ]
  },
  {
   "cell_type": "code",
   "execution_count": 172,
   "id": "59c5641b",
   "metadata": {},
   "outputs": [],
   "source": [
    "# load the vocabulary\n",
    "vocab_filename = 'vocab.txt'\n",
    "vocab = load_doc(vocab_filename)\n",
    "vocab = set(vocab.split())"
   ]
  },
  {
   "cell_type": "code",
   "execution_count": 176,
   "id": "5547d030",
   "metadata": {},
   "outputs": [
    {
     "name": "stdout",
     "output_type": "stream",
     "text": [
      "Model: \"sequential_8\"\n",
      "_________________________________________________________________\n",
      "Layer (type)                 Output Shape              Param #   \n",
      "=================================================================\n",
      "dense_16 (Dense)             (None, 100)               4489100   \n",
      "_________________________________________________________________\n",
      "dense_17 (Dense)             (None, 1)                 101       \n",
      "=================================================================\n",
      "Total params: 4,489,201\n",
      "Trainable params: 4,489,201\n",
      "Non-trainable params: 0\n",
      "_________________________________________________________________\n",
      "Epoch 1/10\n",
      "57/57 - 2s - loss: 0.6915 - accuracy: 0.5422\n",
      "Epoch 2/10\n",
      "57/57 - 2s - loss: 0.6781 - accuracy: 0.8439\n",
      "Epoch 3/10\n",
      "57/57 - 2s - loss: 0.6490 - accuracy: 0.8839\n",
      "Epoch 4/10\n",
      "57/57 - 2s - loss: 0.6028 - accuracy: 0.9356\n",
      "Epoch 5/10\n",
      "57/57 - 2s - loss: 0.5446 - accuracy: 0.9428\n",
      "Epoch 6/10\n",
      "57/57 - 2s - loss: 0.4820 - accuracy: 0.9517\n",
      "Epoch 7/10\n",
      "57/57 - 2s - loss: 0.4203 - accuracy: 0.9594\n",
      "Epoch 8/10\n",
      "57/57 - 2s - loss: 0.3634 - accuracy: 0.9694\n",
      "Epoch 9/10\n",
      "57/57 - 2s - loss: 0.3136 - accuracy: 0.9772\n",
      "Epoch 10/10\n",
      "57/57 - 2s - loss: 0.2694 - accuracy: 0.9811\n",
      "Test Accuracy: 82.499999\n"
     ]
    }
   ],
   "source": [
    "train_docs, ytrain = load_and_clean_dataset(vocab, True)\n",
    "test_docs, ytest = load_and_clean_dataset(vocab, False)\n",
    "# create the tokenizer\n",
    "tokenizer = create_tokenizer_2(train_docs)\n",
    "# encode data\n",
    "Xtrain = tokenizer.texts_to_matrix(train_docs, mode='freq')\n",
    "Xtest = tokenizer.texts_to_matrix(test_docs, mode='freq')\n",
    "# define the model\n",
    "n_words = Xtest.shape[1]\n",
    "model = build_model(n_words)\n",
    "# fit network\n",
    "model.fit(Xtrain, ytrain, epochs=10, verbose=2)\n",
    "# evaluate\n",
    "loss, acc = model.evaluate(Xtest, ytest, verbose=0)\n",
    "print('Test Accuracy: %f' % (acc*100))"
   ]
  },
  {
   "cell_type": "code",
   "execution_count": 191,
   "id": "5b8e26ab",
   "metadata": {},
   "outputs": [],
   "source": []
  },
  {
   "cell_type": "code",
   "execution_count": null,
   "id": "332c1269",
   "metadata": {},
   "outputs": [],
   "source": []
  },
  {
   "cell_type": "code",
   "execution_count": 240,
   "id": "59516eac",
   "metadata": {},
   "outputs": [
    {
     "name": "stdout",
     "output_type": "stream",
     "text": [
      "47394\n"
     ]
    }
   ],
   "source": [
    "def load_doc(file):\n",
    "    file = open(file,\"r\")\n",
    "    ## read all text\n",
    "    text = file.read()\n",
    "    #close file\n",
    "    file.close()\n",
    "    return text\n",
    "## turn a doc into a clean words\n",
    "def doc_clean(doc):\n",
    "    ## split into words\n",
    "    tokens = doc.split()\n",
    "    ## remove punctuation \n",
    "    re_punc = re.compile('[%s]' % re.escape(string.punctuation))\n",
    "    tokens = [re_punc.sub(\"\",w) for w in tokens]\n",
    "    ## keep alphabeic words\n",
    "    tokens = [word for word in tokens if word.isalpha]\n",
    "    ## remove stop words\n",
    "    stop_words = set(stopwords.words(\"english\"))\n",
    "    tokens = [word for word in tokens if not word in stop_words]\n",
    "    ## remove shorter words\n",
    "    tokens = [word for word in tokens if len(word) > 1]\n",
    "    \n",
    "    return tokens\n",
    "\n",
    "## function to load another doc and add to vocab list\n",
    "def add_doc_to_vocab(filename,vocab):\n",
    "    ## load doc \n",
    "    doc = load_doc(filename)\n",
    "    # clean doc\n",
    "    tokens = doc_clean(doc)\n",
    "    # update tokens\n",
    "    vocab.update(tokens)\n",
    "\n",
    "## load all docs in a directory\n",
    "def process_docs(directory,vocab):\n",
    "    ## walk through all files in directory\n",
    "    for filename in os.listdir(directory):\n",
    "        if not filename.endswith(\".txt\"):\n",
    "            next\n",
    "        ## create full path\n",
    "        path = directory + '/' + filename\n",
    "        ## add to vocab\n",
    "        add_doc_to_vocab(path,vocab)\n",
    "\n",
    "        \n",
    "## define vocab\n",
    "vocab = Counter()\n",
    "## add all docs to vocab\n",
    "process_docs(\"txt_sentoken/neg\",vocab)\n",
    "process_docs(\"txt_sentoken/pos\",vocab)\n",
    "# print the size of vocab list\n",
    "print(len(vocab))\n",
    "# keep tokens with > 5 occurrence\n",
    "min_occurane = 5\n",
    "tokens = [k for k,c in vocab.items() if c >= min_occurane]\n",
    "# save tokens to a vocabulary file\n",
    "save_list(tokens, 'vocab.txt')"
   ]
  },
  {
   "cell_type": "code",
   "execution_count": 241,
   "id": "bad873d7",
   "metadata": {},
   "outputs": [],
   "source": [
    "# load the vocabulary\n",
    "vocab_filename = 'vocab.txt'\n",
    "vocab = load_doc(vocab_filename)\n",
    "vocab = vocab.split()\n",
    "vocab = set(vocab)"
   ]
  },
  {
   "cell_type": "code",
   "execution_count": 260,
   "id": "cdd39ac1",
   "metadata": {},
   "outputs": [],
   "source": [
    "def load_doc(file):\n",
    "    file = open(file,\"r\")\n",
    "    ## read all text\n",
    "    text = file.read()\n",
    "    #close file\n",
    "    file.close()\n",
    "    return text\n",
    "\n",
    "## turn a doc into a clean words\n",
    "def doc_clean(doc):\n",
    "    ## split into words\n",
    "    tokens = doc.split()\n",
    "    ## remove punctuation \n",
    "    re_punc = re.compile('[%s]' % re.escape(string.punctuation))\n",
    "    tokens = [re_punc.sub(\"\",w) for w in tokens]\n",
    "    ## keep alphabeic words\n",
    "    tokens = [word for word in tokens if word.isalpha]\n",
    "    ## remove stop words\n",
    "    stop_words = set(stopwords.words(\"english\"))\n",
    "    tokens = [word for word in tokens if not word in stop_words]\n",
    "    ## remove shorter words\n",
    "    tokens = [word for word in tokens if len(word) > 1]\n",
    "    \n",
    "    return tokens\n",
    "## can clean the reviews, use the loaded vocab to filter out unwanted tokens, and\n",
    "## save the clean reviews in a new file.\n",
    "## load doc , clean and return line of tokens\n",
    "def doc_to_line(filename,vocab):\n",
    "    ## load doc\n",
    "    doc = load_doc(filename)\n",
    "    ## clean doc\n",
    "    tokens = doc_clean(doc)\n",
    "    ## filter by vocab\n",
    "    tokens = [word for word in tokens if word in vocab]\n",
    "    return \" \".join(tokens)\n",
    "\n",
    "def process_docs(directory,vocab,is_train):\n",
    "    lines = list()\n",
    "    ## walk through all files in folder\n",
    "    for filename in os.listdir(directory):\n",
    "        if is_train and filename.startswith(\"cv6\"):\n",
    "            continue\n",
    "        if not is_train and not filename.startswith(\"cv6\"):\n",
    "            continue\n",
    "        ## create full path\n",
    "        path = directory + \"/\" + filename\n",
    "        ## load doc\n",
    "        line = doc_to_line(path,vocab)\n",
    "        ## add to list\n",
    "        lines.append(line)\n",
    "    return lines\n",
    "\n",
    "\n",
    "\n",
    "## Function to load movie reviews and prepare output labels.\n",
    "def load_and_clean_dataset(vocab,is_train):\n",
    "    ## load document\n",
    "    neg = process_docs(\"txt_sentoken/neg\",vocab,is_train)\n",
    "    pos = process_docs(\"txt_sentoken/pos\",vocab,is_train)\n",
    "    docs = neg + pos\n",
    "    ## prepare labels\n",
    "    labels = [0 for _ in range(len(neg))] + [1 for _ in range(len(pos))]\n",
    "    return docs , np.array(labels)\n",
    "\n",
    "# fit a tokenizer\n",
    "def create_tokenizer_2(lines):\n",
    "    tokenizer = Tokenizer()\n",
    "    tokenizer.fit_on_texts(lines)\n",
    "    return tokenizer\n",
    "\n",
    "## define the model\n",
    "def build_model(n_words):\n",
    "    ## model architecture\n",
    "    model = Sequential()\n",
    "    model.add(Dense(50,input_shape =(n_words,),activation = 'relu'))\n",
    "    model.add(Dense(1,activation=\"sigmoid\"))\n",
    "    ## compile model\n",
    "    #opt = SGD(lr=0.01)\n",
    "    #model.compile(loss=\"binary_crossentropy\",optimizer= opt,metrics=['accuracy'])\n",
    "    # compile network\n",
    "    model.compile(loss='binary_crossentropy', optimizer='adam', metrics=['accuracy'])\n",
    "    # summarize defined model\n",
    "    ## summary of the model\n",
    "    #model.summary()\n",
    "    return model"
   ]
  },
  {
   "cell_type": "code",
   "execution_count": 243,
   "id": "d9e182ba",
   "metadata": {},
   "outputs": [],
   "source": [
    "def prepare_dataset(train_docs,test_docs,mode):\n",
    "    ## initialize tokenizer\n",
    "    tokenizer = Tokenizer()\n",
    "    ## fit tokenizer()\n",
    "    tokenizer.fit_on_texts(train_docs)\n",
    "    ## encode training data\n",
    "    x_train = tokenizer.texts_to_matrix(train_docs,mode=mode)\n",
    "    ## encode test data \n",
    "    x_test = tokenizer.texts_to_matrix(test_docs,mode=mode)\n",
    "    \n",
    "    return x_train,x_test\n"
   ]
  },
  {
   "cell_type": "code",
   "execution_count": 248,
   "id": "cd166596",
   "metadata": {},
   "outputs": [],
   "source": [
    "def evaluate_mode2(x_train,y_train,x_test,y_test):\n",
    "    scores = list()\n",
    "    n_repeats = 10\n",
    "    n_words = x_test.shape[1]\n",
    "    for i in range(n_repeats):\n",
    "        ## define project\n",
    "        model = build_model(n_words)\n",
    "        ## fit network\n",
    "        model.fit(x_train,y_train,epochs = 10,verbose = 0)\n",
    "        ## evaluate\n",
    "        loss , acc = model.evaluate(x_test,y_test,verbose = 0)\n",
    "        scores.append(acc)\n",
    "        print(\"%d accuracy : %s \" % (i,1),acc)\n",
    "        \n",
    "    return scores"
   ]
  },
  {
   "cell_type": "code",
   "execution_count": 245,
   "id": "a509b4d4",
   "metadata": {},
   "outputs": [],
   "source": [
    "train_docs,y_train= load_and_clean_dataset(vocab,True)\n",
    "test_docs,y_test = load_and_clean_dataset(vocab,False)"
   ]
  },
  {
   "cell_type": "code",
   "execution_count": 246,
   "id": "5e258d88",
   "metadata": {},
   "outputs": [],
   "source": [
    "# run experiment\n",
    "modes = ['binary', 'count', 'tfidf', 'freq']\n",
    "results = pd.DataFrame()"
   ]
  },
  {
   "cell_type": "code",
   "execution_count": 261,
   "id": "29cf88c0",
   "metadata": {},
   "outputs": [
    {
     "name": "stdout",
     "output_type": "stream",
     "text": [
      "0 accuracy : 1  0.8650000095367432\n",
      "1 accuracy : 1  0.8600000143051147\n",
      "2 accuracy : 1  0.8600000143051147\n",
      "3 accuracy : 1  0.8650000095367432\n",
      "4 accuracy : 1  0.8550000190734863\n",
      "5 accuracy : 1  0.8600000143051147\n",
      "6 accuracy : 1  0.8700000047683716\n",
      "7 accuracy : 1  0.8600000143051147\n",
      "8 accuracy : 1  0.8550000190734863\n",
      "9 accuracy : 1  0.8550000190734863\n",
      "0 accuracy : 1  0.8550000190734863\n",
      "1 accuracy : 1  0.8399999737739563\n",
      "2 accuracy : 1  0.8600000143051147\n",
      "3 accuracy : 1  0.8550000190734863\n",
      "4 accuracy : 1  0.8550000190734863\n",
      "5 accuracy : 1  0.8500000238418579\n",
      "6 accuracy : 1  0.8550000190734863\n",
      "7 accuracy : 1  0.8349999785423279\n",
      "8 accuracy : 1  0.8349999785423279\n",
      "9 accuracy : 1  0.8450000286102295\n",
      "0 accuracy : 1  0.8299999833106995\n",
      "1 accuracy : 1  0.8399999737739563\n",
      "2 accuracy : 1  0.8299999833106995\n",
      "3 accuracy : 1  0.8299999833106995\n",
      "4 accuracy : 1  0.8450000286102295\n",
      "5 accuracy : 1  0.8199999928474426\n",
      "6 accuracy : 1  0.8100000023841858\n",
      "7 accuracy : 1  0.8299999833106995\n",
      "8 accuracy : 1  0.8299999833106995\n",
      "9 accuracy : 1  0.8399999737739563\n",
      "0 accuracy : 1  0.8050000071525574\n",
      "1 accuracy : 1  0.8149999976158142\n",
      "2 accuracy : 1  0.8050000071525574\n",
      "3 accuracy : 1  0.8349999785423279\n",
      "4 accuracy : 1  0.8299999833106995\n",
      "5 accuracy : 1  0.8299999833106995\n",
      "6 accuracy : 1  0.8100000023841858\n",
      "7 accuracy : 1  0.8050000071525574\n",
      "8 accuracy : 1  0.824999988079071\n",
      "9 accuracy : 1  0.824999988079071\n",
      "          binary      count      tfidf       freq\n",
      "count  10.000000  10.000000  10.000000  10.000000\n",
      "mean    0.860500   0.848500   0.830500   0.818500\n",
      "std     0.004972   0.009144   0.010124   0.011797\n",
      "min     0.855000   0.835000   0.810000   0.805000\n",
      "25%     0.856250   0.841250   0.830000   0.806250\n",
      "50%     0.860000   0.852500   0.830000   0.820000\n",
      "75%     0.863750   0.855000   0.837500   0.828750\n",
      "max     0.870000   0.860000   0.845000   0.835000\n"
     ]
    }
   ],
   "source": [
    "for mode in modes:\n",
    "    x_train , x_test = prepare_dataset(train_docs,test_docs,mode = mode)\n",
    "    ## evaluate\n",
    "    results[mode] = evaluate_mode2(x_train,y_train,x_test,y_test)\n",
    "    \n",
    "print(results.describe())"
   ]
  },
  {
   "cell_type": "code",
   "execution_count": 262,
   "id": "9169f56a",
   "metadata": {},
   "outputs": [
    {
     "data": {
      "image/png": "[encoded data removed]",
      "text/plain": [
       "<Figure size 432x288 with 1 Axes>"
      ]
     },
     "metadata": {
      "needs_background": "light"
     },
     "output_type": "display_data"
    }
   ],
   "source": [
    "# plot results\n",
    "results.boxplot()\n",
    "pyplot.show()"
   ]
  },
  {
   "cell_type": "code",
   "execution_count": 266,
   "id": "1427ca11",
   "metadata": {},
   "outputs": [],
   "source": [
    "## predict new sentiment \n",
    "def predict_sentiment(review,vocab,tokenizer,model):\n",
    "    tokens = clean_doc(review)\n",
    "    \n",
    "    line = [word for word in tokens if word in vocab]\n",
    "    \n",
    "    encoded_review = tokenizer.texts_to_matrix([line],mode = 'binary')\n",
    "    \n",
    "    y_pred = model.predict(encoded_review,verbose = 0)\n",
    "    \n",
    "    percent_pos = y_pred[0,0]\n",
    "    \n",
    "    if round(percent_pos) == 0:\n",
    "        return (1 - percent_pos), 'NEGATIVE'\n",
    "    return percent_pos , 'POSITIVE'"
   ]
  },
  {
   "cell_type": "code",
   "execution_count": 267,
   "id": "e72ddf57",
   "metadata": {},
   "outputs": [],
   "source": [
    "review = 'Best movie ever! It was great, I recommend it.'"
   ]
  },
  {
   "cell_type": "code",
   "execution_count": 268,
   "id": "de73b172",
   "metadata": {},
   "outputs": [
    {
     "data": {
      "text/plain": [
       "(0.9999747, 'POSITIVE')"
      ]
     },
     "execution_count": 268,
     "metadata": {},
     "output_type": "execute_result"
    }
   ],
   "source": [
    "predict_sentiment(review,vocab,tokenizer,model)"
   ]
  },
  {
   "cell_type": "code",
   "execution_count": 273,
   "id": "54937485",
   "metadata": {},
   "outputs": [],
   "source": [
    "review_2 = 'This is a bad movie.'"
   ]
  },
  {
   "cell_type": "code",
   "execution_count": 274,
   "id": "1ec02ced",
   "metadata": {},
   "outputs": [
    {
     "data": {
      "text/plain": [
       "(0.9999998967994586, 'NEGATIVE')"
      ]
     },
     "execution_count": 274,
     "metadata": {},
     "output_type": "execute_result"
    }
   ],
   "source": [
    "predict_sentiment(review_2,vocab,tokenizer,model)"
   ]
  },
  {
   "cell_type": "code",
   "execution_count": null,
   "id": "b92af333",
   "metadata": {},
   "outputs": [],
   "source": []
  },
  {
   "cell_type": "code",
   "execution_count": 275,
   "id": "5b286f60",
   "metadata": {},
   "outputs": [],
   "source": [
    "# load the vocabulary\n",
    "vocab_filename = 'vocab.txt'\n",
    "vocab = load_doc(vocab_filename)\n",
    "vocab = vocab.split()\n",
    "vocab = set(vocab)"
   ]
  },
  {
   "cell_type": "code",
   "execution_count": 276,
   "id": "3081f6ff",
   "metadata": {},
   "outputs": [],
   "source": [
    "train_docs,y_train= load_and_clean_dataset(vocab,True)\n",
    "test_docs,y_test = load_and_clean_dataset(vocab,False)"
   ]
  },
  {
   "cell_type": "code",
   "execution_count": 277,
   "id": "68d08ce2",
   "metadata": {},
   "outputs": [],
   "source": [
    "tokenizer = create_tokenizer_2(train_docs)"
   ]
  },
  {
   "cell_type": "code",
   "execution_count": 278,
   "id": "5b1b1bac",
   "metadata": {},
   "outputs": [],
   "source": [
    "# encode data\n",
    "X_train = tokenizer.texts_to_matrix(train_docs, mode='binary')\n",
    "X_test = tokenizer.texts_to_matrix(test_docs, mode='binary')\n"
   ]
  },
  {
   "cell_type": "code",
   "execution_count": 279,
   "id": "5e78225f",
   "metadata": {},
   "outputs": [],
   "source": [
    "# define the model\n",
    "n_words = X_train.shape[1]\n",
    "model = build_model(n_words)"
   ]
  },
  {
   "cell_type": "code",
   "execution_count": 280,
   "id": "36b4d533",
   "metadata": {},
   "outputs": [
    {
     "name": "stdout",
     "output_type": "stream",
     "text": [
      "Epoch 1/10\n",
      "57/57 - 1s - loss: 0.4617 - accuracy: 0.7972\n",
      "Epoch 2/10\n",
      "57/57 - 0s - loss: 0.0647 - accuracy: 0.9956\n",
      "Epoch 3/10\n",
      "57/57 - 0s - loss: 0.0198 - accuracy: 1.0000\n",
      "Epoch 4/10\n",
      "57/57 - 0s - loss: 0.0087 - accuracy: 1.0000\n",
      "Epoch 5/10\n",
      "57/57 - 0s - loss: 0.0044 - accuracy: 1.0000\n",
      "Epoch 6/10\n",
      "57/57 - 0s - loss: 0.0027 - accuracy: 1.0000\n",
      "Epoch 7/10\n",
      "57/57 - 0s - loss: 0.0018 - accuracy: 1.0000\n",
      "Epoch 8/10\n",
      "57/57 - 0s - loss: 0.0013 - accuracy: 1.0000\n",
      "Epoch 9/10\n",
      "57/57 - 0s - loss: 9.4699e-04 - accuracy: 1.0000\n",
      "Epoch 10/10\n",
      "57/57 - 0s - loss: 7.3387e-04 - accuracy: 1.0000\n"
     ]
    },
    {
     "data": {
      "text/plain": [
       "<tensorflow.python.keras.callbacks.History at 0x2e82f791ef0>"
      ]
     },
     "execution_count": 280,
     "metadata": {},
     "output_type": "execute_result"
    }
   ],
   "source": [
    "# fit network\n",
    "model.fit(X_train, y_train, epochs=10, verbose=2)"
   ]
  },
  {
   "cell_type": "code",
   "execution_count": 281,
   "id": "8dcdd68c",
   "metadata": {},
   "outputs": [
    {
     "name": "stdout",
     "output_type": "stream",
     "text": [
      "Test Accuracy: 86.000001\n"
     ]
    }
   ],
   "source": [
    "# evaluate\n",
    "loss, acc = model.evaluate(X_test, y_test, verbose=0)\n",
    "print('Test Accuracy: %f' % (acc*100))"
   ]
  },
  {
   "cell_type": "code",
   "execution_count": 282,
   "id": "f3a1dfcc",
   "metadata": {},
   "outputs": [],
   "source": [
    "# test positive text\n",
    "text = 'Best movie ever! It was great, I recommend it.'"
   ]
  },
  {
   "cell_type": "code",
   "execution_count": 283,
   "id": "56a3ce44",
   "metadata": {},
   "outputs": [
    {
     "name": "stdout",
     "output_type": "stream",
     "text": [
      "Review: [Best movie ever! It was great, I recommend it.]\n",
      "Sentiment: POSITIVE (59.894%)\n"
     ]
    }
   ],
   "source": [
    "percent, sentiment = predict_sentiment(text, vocab, tokenizer, model)\n",
    "print('Review: [%s]\\nSentiment: %s (%.3f%%)' % (text, sentiment, percent*100))"
   ]
  },
  {
   "cell_type": "code",
   "execution_count": 284,
   "id": "e307dba0",
   "metadata": {},
   "outputs": [
    {
     "name": "stdout",
     "output_type": "stream",
     "text": [
      "Review: [This is a bad movie.]\n",
      "Sentiment: NEGATIVE (63.764%)\n"
     ]
    }
   ],
   "source": [
    "# test negative text\n",
    "text = 'This is a bad movie.'\n",
    "percent, sentiment = predict_sentiment(text, vocab, tokenizer, model)\n",
    "print('Review: [%s]\\nSentiment: %s (%.3f%%)' % (text, sentiment, percent*100))"
   ]
  },
  {
   "cell_type": "code",
   "execution_count": null,
   "id": "a12e0f25",
   "metadata": {},
   "outputs": [],
   "source": []
  }
 ],
 "metadata": {
  "kernelspec": {
   "display_name": "Python 3",
   "language": "python",
   "name": "python3"
  },
  "language_info": {
   "codemirror_mode": {
    "name": "ipython",
    "version": 3
   },
   "file_extension": ".py",
   "mimetype": "text/x-python",
   "name": "python",
   "nbconvert_exporter": "python",
   "pygments_lexer": "ipython3",
   "version": "3.6.9"
  }
 },
 "nbformat": 4,
 "nbformat_minor": 5
}
